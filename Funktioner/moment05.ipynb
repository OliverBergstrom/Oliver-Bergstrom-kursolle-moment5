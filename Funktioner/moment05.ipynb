{
 "metadata": {
  "language_info": {
   "codemirror_mode": {
    "name": "ipython",
    "version": 3
   },
   "file_extension": ".py",
   "mimetype": "text/x-python",
   "name": "python",
   "nbconvert_exporter": "python",
   "pygments_lexer": "ipython3",
   "version": "3.8.3-final"
  },
  "orig_nbformat": 2,
  "kernelspec": {
   "name": "python3",
   "display_name": "Python 3",
   "language": "python"
  }
 },
 "nbformat": 4,
 "nbformat_minor": 2,
 "cells": [
  {
   "cell_type": "code",
   "execution_count": 10,
   "metadata": {},
   "outputs": [
    {
     "output_type": "stream",
     "name": "stdout",
     "text": [
      "Oliver, TE19D, NTI\n"
     ]
    }
   ],
   "source": [
    "# m05u01\n",
    "\n",
    "def jag():\n",
    "    print(\"Oliver, TE19D, NTI\")\n",
    "\n",
    "jag()"
   ]
  },
  {
   "cell_type": "code",
   "execution_count": 9,
   "metadata": {},
   "outputs": [
    {
     "output_type": "stream",
     "name": "stdout",
     "text": [
      "28.26\n12.42\n"
     ]
    }
   ],
   "source": [
    "# m05u02\n",
    "\n",
    "radie = int(input(\"ange radien\"))\n",
    "\n",
    "def area():\n",
    "    a = (3.14 * radie**2)\n",
    "    print(f\"{a}\")\n",
    "\n",
    "def omkrets():\n",
    "    o = (radie + radie * 3.14)\n",
    "    print(f\"{o}\")\n",
    "\n",
    "area()\n",
    "omkrets()"
   ]
  },
  {
   "cell_type": "code",
   "execution_count": 19,
   "metadata": {},
   "outputs": [
    {
     "output_type": "stream",
     "name": "stdout",
     "text": [
      "28.26\n12.42\n"
     ]
    }
   ],
   "source": [
    "# m05u03\n",
    "\n",
    "r = int(input(\"ange radien\"))\n",
    "\n",
    "def cirkel_area(pi,radie):\n",
    "    area = (pi * radie**2)\n",
    "    return area\n",
    "\n",
    "def cirkel_omkrets(pi,radie):\n",
    "    omkrets = (radie + radie * pi)\n",
    "    return omkrets\n",
    "\n",
    "\n",
    "cirkel_summa1 = cirkel_area(3.14,r)\n",
    "print(f\"{cirkel_summa1}\")\n",
    "\n",
    "cirkel_summa2 = cirkel_omkrets(3.14,r)\n",
    "print(f\"{cirkel_summa2}\")\n"
   ]
  },
  {
   "cell_type": "code",
   "execution_count": 8,
   "metadata": {},
   "outputs": [
    {
     "output_type": "stream",
     "name": "stdout",
     "text": [
      "28.26\n12.42\n"
     ]
    }
   ],
   "source": [
    "# m05u03\n",
    "import functions as functions\n",
    "\n",
    "r = int(input(\"ange radien\"))\n",
    "\n",
    "cirkel_summa1 = functions.cirkel_area(3.14,r)\n",
    "print(f\"{cirkel_summa1}\")\n",
    "\n",
    "cirkel_summa2 = functions.cirkel_omkrets(3.14,r)\n",
    "print(f\"{cirkel_summa2}\")"
   ]
  },
  {
   "cell_type": "code",
   "execution_count": null,
   "metadata": {},
   "outputs": [],
   "source": []
  }
 ]
}