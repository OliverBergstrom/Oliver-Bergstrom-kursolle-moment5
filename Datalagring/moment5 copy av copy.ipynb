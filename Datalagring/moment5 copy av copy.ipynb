{
 "metadata": {
  "language_info": {
   "codemirror_mode": {
    "name": "ipython",
    "version": 3
   },
   "file_extension": ".py",
   "mimetype": "text/x-python",
   "name": "python",
   "nbconvert_exporter": "python",
   "pygments_lexer": "ipython3",
   "version": 3
  },
  "orig_nbformat": 2
 },
 "nbformat": 4,
 "nbformat_minor": 2,
 "cells": [
  {
   "cell_type": "code",
   "execution_count": null,
   "metadata": {},
   "outputs": [],
   "source": [
    "saldo = 1000\n",
    "transaktioner = []\n",
    "transaktioner.append(1000)\n",
    "\n",
    "while True:\n",
    "    menu = (\"\\n\" \n",
    "            \"\\n Swedbank deluxe\"\n",
    "            \"\\n Saldo: {} kr\" \n",
    "            \"\\n 1. Saldo\" \n",
    "            \"\\n 2. Insättning\" \n",
    "            \"\\n 3. Uttag\" \n",
    "            \"\\n 4. Avsluta\".format(saldo))\n",
    "\n",
    "    val = int(input(menu))\n",
    "\n",
    "    if val == 1:\n",
    "        print(\"Transaktioner:\")\n",
    "        line = 0\n",
    "        sum = 0\n",
    "        head = (\"\\nAlla transaktioner:\"\n",
    "                \"\\n{:>3} {:>12} {:>12}\"\n",
    "                \"\\n------------------------------\").format(\"Nr\", \"Händelse\", \"Saldo\")\n",
    "        print(head)\n",
    "        for t in transaktioner:\n",
    "            line += 1\n",
    "            sum += t\n",
    "            print(\"{:>2}. {:>9} {:>9} kr\".format(line, t, sum))\n",
    "    elif val == 2:\n",
    "        insättning = int(input(\"Hur mycket vill du lägga in på kontot?\"))\n",
    "        if insättning > 0:\n",
    "            saldo += insättning\n",
    "            transaktioner.append(insättning)\n",
    "        else:\n",
    "            print(\"Måste vara större än 0\")\n",
    "    elif val == 3:\n",
    "        uttag = int(input(\"Hur mycket vill du dra ut?\"))\n",
    "        if uttag <= saldo and uttag >= 0:\n",
    "            saldo -= uttag\n",
    "            transaktioner.append(-uttag)\n",
    "        elif uttag < 0:\n",
    "            print(\"Måste vara större än 0\")\n",
    "        else:\n",
    "            print(\"Du har inte tillräckligt med pengar på kontot, fattiglapp\")\n",
    "    elif val == 4:\n",
    "        break\n",
    "    else:\n",
    "        print(\"Fel input\")\n",
    "\n",
    "print(\"Adjöken fröken/herrn\")"
   ]
  }
 ]
}