{
 "metadata": {
  "language_info": {
   "codemirror_mode": {
    "name": "ipython",
    "version": 3
   },
   "file_extension": ".py",
   "mimetype": "text/x-python",
   "name": "python",
   "nbconvert_exporter": "python",
   "pygments_lexer": "ipython3",
   "version": "3.8.6"
  },
  "orig_nbformat": 2,
  "kernelspec": {
   "name": "python386jvsc74a57bd0d921abd2cbb9bd0040e97c6895a8599e7160450e7542ca56fa0dccfebd697a77",
   "display_name": "Python 3.8.6 64-bit"
  },
  "metadata": {
   "interpreter": {
    "hash": "d921abd2cbb9bd0040e97c6895a8599e7160450e7542ca56fa0dccfebd697a77"
   }
  }
 },
 "nbformat": 4,
 "nbformat_minor": 2,
 "cells": [
  {
   "cell_type": "code",
   "execution_count": null,
   "metadata": {},
   "outputs": [],
   "source": [
    "# m05u08\n",
    "fil = 'provpoäng.txt'\n",
    "lista = []\n",
    "\n",
    "with open(fil) as f:\n",
    "    for rad in f:\n",
    "        if len(rad) > 1:\n",
    "            lista.append(int(rad))\n",
    "\n",
    "lista.sort()\n",
    "\n",
    "print(f\"{lista}\") # listan sorterad i nummer ordning\n",
    "print(f\"{len(lista)}\") # längden på listan\n",
    "print(f\"{sum(lista)/len(lista)}\") # summan på listan delat på längden av listan"
   ]
  },
  {
   "cell_type": "code",
   "execution_count": null,
   "metadata": {},
   "outputs": [],
   "source": [
    "# m05u08\n",
    "fil = 'provpoäng.txt'\n",
    "lista = []\n",
    "\n",
    "with open(fil) as f:\n",
    "    for rad in f:\n",
    "        if len(rad) > 1:\n",
    "            lista.append(int(rad))\n",
    "\n",
    "lista.sort()\n",
    "\n",
    "print(f\"{lista}\") # listan sorterad i nummer ordning\n",
    "print(f\"{len(lista)}\") # längden på listan\n",
    "print(f\"{sum(lista)/len(lista)}\") # summan på listan delat på längden av listan"
   ]
  },
  {
   "cell_type": "code",
   "execution_count": null,
   "metadata": {},
   "outputs": [],
   "source": [
    "# m05u09\n",
    "\n",
    "with open('utskrift.txt', 'w') as fw: # öppnar filen så man kan skriva i den\n",
    "    fw.write('''1 2 3\n",
    "    4 5 6\n",
    "    7 8 9\n",
    "    ''') # skriver siffrorna till txt filen\n",
    "    fw.write('\\nHär var det rutigt!') # skriver texten på en ny rad i txt filen\n",
    "\n",
    "    with open('utskrift.txt', 'r') as fr: # öppnar filen så man kan läsa den\n",
    "        print(fr.read()) # printar det som står i filen, funkar inte av någon anledning"
   ]
  },
  {
   "cell_type": "code",
   "execution_count": null,
   "metadata": {},
   "outputs": [],
   "source": [
    "# m05u11\n",
    "\n",
    "insättning = insättningORG = 1000\n",
    "förändringsfaktor = 1.03\n",
    "år = 0\n",
    "\n",
    "with open('datatyper.txt', 'w') as f1:\n",
    "    while år < 15:\n",
    "        insättning = insättning*förändringsfaktor\n",
    "        år += 1\n",
    "        f1.write(f\"\\n{år}|{insättning}|{((insättning/insättningORG)-1)*100}%\")"
   ]
  },
  {
   "cell_type": "code",
   "execution_count": 7,
   "metadata": {},
   "outputs": [
    {
     "output_type": "stream",
     "name": "stdout",
     "text": [
      "\n",
      "Alla transaktioner:\n",
      " Nr     Händelse        Saldo\n",
      "______________________________\n",
      " 1.      1000      1000 kr\n",
      "\n",
      "Alla transaktioner:\n",
      " Nr     Händelse        Saldo\n",
      "______________________________\n",
      " 1.      1000      1000 kr\n",
      " 2.      1000      2000 kr\n",
      "\n",
      "Alla transaktioner:\n",
      " Nr     Händelse        Saldo\n",
      "______________________________\n",
      " 1.      1000      1000 kr\n",
      " 2.      1000      2000 kr\n",
      " 3.      -400      1600 kr\n",
      "Adjöken fröken/herrn\n"
     ]
    }
   ],
   "source": [
    "from functions import *\n",
    "\n",
    "check_file_exists()\n",
    "read_file()\n",
    "\n",
    "transactions.append(1000) # Lägger till startbeloppet på 1000\n",
    "\n",
    "while True:\n",
    "    menu = (\"\\n\" \n",
    "            \"\\n Swedbank deluxe\"\n",
    "            \"\\n Saldo: {} kr\" \n",
    "            \"\\n 1. Saldo\" \n",
    "            \"\\n 2. Insättning\" \n",
    "            \"\\n 3. Uttag\" \n",
    "            \"\\n 4. Avsluta\".format(balans()))\n",
    "\n",
    "    val = validate_int(menu, \"Felaktig inmatning!\")\n",
    "\n",
    "    if val == 1:\n",
    "        print(print_transactions())\n",
    "\n",
    "    elif val == 2:\n",
    "        insättning = validate_int(\"Hur mycket vill du lägga in på kontot?\", \"Felaktig inmatning!\")\n",
    "        if insättning > 0:\n",
    "            add_transaction(insättning)\n",
    "        else:\n",
    "            print(\"Måste vara större än 0\")\n",
    "    elif val == 3:\n",
    "        uttag = validate_int(\"Hur mycket vill du dra ut?\", \"Felaktig inmatning!\")\n",
    "        if uttag <= balans() and uttag >= 0:\n",
    "            add_transaction(-uttag)\n",
    "        elif uttag < 0:\n",
    "            print(\"Måste vara större än 0\")\n",
    "        else:\n",
    "            print(\"Du har inte tillräckligt med pengar på kontot, fattiglapp\")\n",
    "    elif val == 4:\n",
    "        break\n",
    "    else:\n",
    "        print(\"Fel input\")\n",
    "\n",
    "print(\"Adjöken fröken/herrn\")"
   ]
  },
  {
   "cell_type": "code",
   "execution_count": null,
   "metadata": {},
   "outputs": [],
   "source": []
  }
 ]
}