{
 "metadata": {
  "language_info": {
   "codemirror_mode": {
    "name": "ipython",
    "version": 3
   },
   "file_extension": ".py",
   "mimetype": "text/x-python",
   "name": "python",
   "nbconvert_exporter": "python",
   "pygments_lexer": "ipython3",
   "version": "3.8.6"
  },
  "orig_nbformat": 2,
  "kernelspec": {
   "name": "python3",
   "display_name": "Python 3.8.6 64-bit",
   "metadata": {
    "interpreter": {
     "hash": "d921abd2cbb9bd0040e97c6895a8599e7160450e7542ca56fa0dccfebd697a77"
    }
   }
  }
 },
 "nbformat": 4,
 "nbformat_minor": 2,
 "cells": [
  {
   "cell_type": "code",
   "execution_count": null,
   "metadata": {},
   "outputs": [],
   "source": [
    "# m05u08\n",
    "fil = 'provpoäng.txt'\n",
    "lista = []\n",
    "\n",
    "with open(fil) as f:\n",
    "    for rad in f:\n",
    "        if len(rad) > 1:\n",
    "            lista.append(int(rad))\n",
    "\n",
    "lista.sort()\n",
    "\n",
    "print(f\"{lista}\") # listan sorterad i nummer ordning\n",
    "print(f\"{len(lista)}\") # längden på listan\n",
    "print(f\"{sum(lista)/len(lista)}\") # summan på listan delat på längden av listan"
   ]
  },
  {
   "cell_type": "code",
   "execution_count": null,
   "metadata": {},
   "outputs": [],
   "source": [
    "# m05u08\n",
    "fil = 'provpoäng.txt'\n",
    "lista = []\n",
    "\n",
    "with open(fil) as f:\n",
    "    for rad in f:\n",
    "        if len(rad) > 1:\n",
    "            lista.append(int(rad))\n",
    "\n",
    "lista.sort()\n",
    "\n",
    "print(f\"{lista}\") # listan sorterad i nummer ordning\n",
    "print(f\"{len(lista)}\") # längden på listan\n",
    "print(f\"{sum(lista)/len(lista)}\") # summan på listan delat på längden av listan"
   ]
  },
  {
   "cell_type": "code",
   "execution_count": null,
   "metadata": {},
   "outputs": [],
   "source": [
    "# m05u09\n",
    "\n",
    "with open('utskrift.txt', 'w') as fw: # öppnar filen så man kan skriva i den\n",
    "    fw.write('''1 2 3\n",
    "    4 5 6\n",
    "    7 8 9\n",
    "    ''') # skriver siffrorna till txt filen\n",
    "    fw.write('\\nHär var det rutigt!') # skriver texten på en ny rad i txt filen\n",
    "\n",
    "    with open('utskrift.txt', 'r') as fr: # öppnar filen så man kan läsa den\n",
    "        print(fr.read()) # printar det som står i filen, funkar inte av någon anledning"
   ]
  },
  {
   "cell_type": "code",
   "execution_count": null,
   "metadata": {},
   "outputs": [],
   "source": [
    "# m05u11\n",
    "\n",
    "insättning = insättningORG = 1000\n",
    "förändringsfaktor = 1.03\n",
    "år = 0\n",
    "\n",
    "with open('datatyper.txt', 'w') as f1:\n",
    "    while år < 15:\n",
    "        insättning = insättning*förändringsfaktor\n",
    "        år += 1\n",
    "        f1.write(f\"\\n{år}|{insättning}|{((insättning/insättningORG)-1)*100}%\")"
   ]
  },
  {
   "cell_type": "code",
   "execution_count": 5,
   "metadata": {},
   "outputs": [
    {
     "output_type": "stream",
     "name": "stdout",
     "text": [
      "Saldo: 1000kr\n",
      "Saldo: 0kr\n"
     ]
    },
    {
     "output_type": "error",
     "ename": "ValueError",
     "evalue": "invalid literal for int() with base 10: 'f'",
     "traceback": [
      "\u001b[1;31m---------------------------------------------------------------------------\u001b[0m",
      "\u001b[1;31mValueError\u001b[0m                                Traceback (most recent call last)",
      "\u001b[1;32m<ipython-input-5-e5b3124c23c8>\u001b[0m in \u001b[0;36m<module>\u001b[1;34m\u001b[0m\n\u001b[0;32m     11\u001b[0m         \u001b[0mprint\u001b[0m\u001b[1;33m(\u001b[0m\u001b[1;34mf\"Saldo: {saldo}kr\"\u001b[0m\u001b[1;33m)\u001b[0m\u001b[1;33m\u001b[0m\u001b[1;33m\u001b[0m\u001b[0m\n\u001b[0;32m     12\u001b[0m     \u001b[1;32melif\u001b[0m \u001b[0mval\u001b[0m \u001b[1;33m==\u001b[0m \u001b[1;36m2\u001b[0m\u001b[1;33m:\u001b[0m\u001b[1;33m\u001b[0m\u001b[1;33m\u001b[0m\u001b[0m\n\u001b[1;32m---> 13\u001b[1;33m         \u001b[0minsättning\u001b[0m \u001b[1;33m=\u001b[0m \u001b[0mint\u001b[0m\u001b[1;33m(\u001b[0m\u001b[0minput\u001b[0m\u001b[1;33m(\u001b[0m\u001b[1;34m\"Hur mycket vill du lägga in på kontot?\"\u001b[0m\u001b[1;33m)\u001b[0m\u001b[1;33m)\u001b[0m\u001b[1;33m\u001b[0m\u001b[1;33m\u001b[0m\u001b[0m\n\u001b[0m\u001b[0;32m     14\u001b[0m         \u001b[1;32mif\u001b[0m \u001b[0minsättning\u001b[0m \u001b[1;33m>\u001b[0m \u001b[1;36m0\u001b[0m\u001b[1;33m:\u001b[0m\u001b[1;33m\u001b[0m\u001b[1;33m\u001b[0m\u001b[0m\n\u001b[0;32m     15\u001b[0m             \u001b[0msaldo\u001b[0m \u001b[1;33m+=\u001b[0m \u001b[0minsättning\u001b[0m\u001b[1;33m\u001b[0m\u001b[1;33m\u001b[0m\u001b[0m\n",
      "\u001b[1;31mValueError\u001b[0m: invalid literal for int() with base 10: 'f'"
     ]
    }
   ],
   "source": [
    "saldo = 1000\n",
    "\n",
    "\n",
    "\n",
    "while True:\n",
    "    menu = (\"\\n\" \"\\n Swedbank deluxe\" \"\\n 1. Saldo\" \"\\n 2. Insättning\" \"\\n 3. Uttag\" \"\\n 4. Avsluta\")\n",
    "\n",
    "    val = int(input(menu))\n",
    "\n",
    "    if val == 1:\n",
    "        print(f\"Saldo: {saldo}kr\")\n",
    "    elif val == 2:\n",
    "        insättning = int(input(\"Hur mycket vill du lägga in på kontot?\"))\n",
    "        if insättning > 0:\n",
    "            saldo += insättning\n",
    "        else:\n",
    "            print(\"Måste vara större än 0\")\n",
    "    elif val == 3:\n",
    "        uttag = int(input(\"Hur mycket vill du dra ut?\"))\n",
    "        if uttag <= saldo and uttag >= 0:\n",
    "            saldo -= uttag\n",
    "        elif uttag < 0:\n",
    "            print(\"Måste vara större än 0\")\n",
    "        else:\n",
    "            print(\"Du har inte tillräckligt med pengar på kontot, fattiglapp\")\n",
    "    elif val == 4:\n",
    "        break\n",
    "    else:\n",
    "        print(\"Fel input\")\n",
    "\n",
    "print(\"Adjöken fröken/herrn\")"
   ]
  },
  {
   "cell_type": "code",
   "execution_count": null,
   "metadata": {},
   "outputs": [],
   "source": []
  }
 ]
}