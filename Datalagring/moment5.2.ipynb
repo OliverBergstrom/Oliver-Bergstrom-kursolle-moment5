{
 "metadata": {
  "language_info": {
   "codemirror_mode": {
    "name": "ipython",
    "version": 3
   },
   "file_extension": ".py",
   "mimetype": "text/x-python",
   "name": "python",
   "nbconvert_exporter": "python",
   "pygments_lexer": "ipython3",
   "version": "3.8.6-final"
  },
  "orig_nbformat": 2,
  "kernelspec": {
   "name": "python3",
   "display_name": "Python 3.8.6 64-bit",
   "metadata": {
    "interpreter": {
     "hash": "d921abd2cbb9bd0040e97c6895a8599e7160450e7542ca56fa0dccfebd697a77"
    }
   }
  }
 },
 "nbformat": 4,
 "nbformat_minor": 2,
 "cells": [
  {
   "cell_type": "code",
   "execution_count": 11,
   "metadata": {},
   "outputs": [
    {
     "output_type": "stream",
     "name": "stdout",
     "text": [
      "[2, 6, 8, 10, 11, 12, 14, 16, 19, 26, 41, 45, 50, 52, 56, 61, 68, 76, 77, 80, 88, 89, 92, 97, 100]\n25\n47.84\n"
     ]
    }
   ],
   "source": [
    "# m05u08\n",
    "fil = 'provpoäng.txt'\n",
    "lista = []\n",
    "\n",
    "with open(fil) as f:\n",
    "    for rad in f:\n",
    "        if len(rad) > 1:\n",
    "            lista.append(int(rad))\n",
    "\n",
    "lista.sort()\n",
    "\n",
    "print(f\"{lista}\") # listan sorterad i nummer ordning\n",
    "print(f\"{len(lista)}\") # längden på listan\n",
    "print(f\"{sum(lista)/len(lista)}\") # summan på listan delat på längden av listan\n",
    "    "
   ]
  },
  {
   "cell_type": "code",
   "execution_count": 12,
   "metadata": {},
   "outputs": [],
   "source": [
    "datatyp = []\n",
    "ex_datatyp = []\n",
    "info_datatyp = []\n",
    "\n",
    "with open('datatyper.txt') as f:\n",
    "    for rad in f:\n",
    "        rad = rad.split('|')\n",
    "\n",
    "\n",
    "        datatyp.append(rad[0].lstrip())\n",
    "        ex_datatyp.append(rad[1].lstrip())\n",
    "        info_datatyp.append(rad[2].lstrip())\n",
    "\n",
    "for i, t in enumerate(datatyp):\n",
    "\n",
    "    print('{:<15}{}\\n{:<15}{}\\n{:<15}{}'.format('Datatyp:', t, 'Exempel:', ex_datatyp[i], 'Förklaring:', info_datatyp[i]))"
   ]
  },
  {
   "cell_type": "code",
   "execution_count": 2,
   "metadata": {},
   "outputs": [
    {
     "output_type": "stream",
     "name": "stdout",
     "text": [
      "\n"
     ]
    }
   ],
   "source": [
    "# m05u10\n",
    "\n",
    "with open('utskrift.txt', 'w') as fw: # öppnar filen så man kan skriva i den\n",
    "    fw.write('''1 2 3\n",
    "    4 5 6\n",
    "    7 8 9\n",
    "    ''') # skriver siffrorna till txt filen\n",
    "    fw.write('\\nHär var det rutigt!') # skriver texten på en ny rad i txt filen\n",
    "\n",
    "    with open('utskrift.txt', 'r') as fr: # öppnar filen så man kan läsa den\n",
    "        print(fr.read()) # printar det som står i filen, funkar inte av någon anledning"
   ]
  },
  {
   "cell_type": "code",
   "execution_count": 9,
   "metadata": {},
   "outputs": [],
   "source": [
    "# m05u11\n",
    "\n",
    "insättning = insättningORG = 1000\n",
    "förändringsfaktor = 1.03\n",
    "år = 0\n",
    "\n",
    "with open('datatyper.txt', 'w') as f1:\n",
    "    while år < 15:\n",
    "        insättning = insättning*förändringsfaktor\n",
    "        år += 1\n",
    "        f1.write(f\"\\n{år}|{insättning}|{((insättning/insättningORG)-1)*100}%\")\n",
    "        "
   ]
  },
  {
   "cell_type": "code",
   "execution_count": null,
   "metadata": {},
   "outputs": [],
   "source": []
  }
 ]
}