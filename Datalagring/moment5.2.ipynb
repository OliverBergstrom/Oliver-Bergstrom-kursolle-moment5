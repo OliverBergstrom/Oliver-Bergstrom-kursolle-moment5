{
 "metadata": {
  "language_info": {
   "codemirror_mode": {
    "name": "ipython",
    "version": 3
   },
   "file_extension": ".py",
   "mimetype": "text/x-python",
   "name": "python",
   "nbconvert_exporter": "python",
   "pygments_lexer": "ipython3",
   "version": "3.8.6-final"
  },
  "orig_nbformat": 2,
  "kernelspec": {
   "name": "python3",
   "display_name": "Python 3.8.6 64-bit",
   "metadata": {
    "interpreter": {
     "hash": "d921abd2cbb9bd0040e97c6895a8599e7160450e7542ca56fa0dccfebd697a77"
    }
   }
  }
 },
 "nbformat": 4,
 "nbformat_minor": 2,
 "cells": [
  {
   "cell_type": "code",
   "execution_count": 7,
   "metadata": {},
   "outputs": [
    {
     "output_type": "stream",
     "name": "stdout",
     "text": [
      "[2, 6, 8, 10, 11, 12, 14, 16, 19, 26, 41, 45, 50, 52, 56, 61, 68, 76, 77, 80, 88, 89, 92, 97, 100]\n25\n47.8\n"
     ]
    }
   ],
   "source": [
    "# m05u08\n",
    "fil = 'provpoäng.txt'\n",
    "lista = []\n",
    "\n",
    "with open(fil) as f:\n",
    "    for rad in f:\n",
    "        if len(rad) > 1:\n",
    "            lista.append(int(rad))\n",
    "\n",
    "lista.sort()\n",
    "\n",
    "print(f\"{lista}\")\n",
    "print(f\"{len(lista)}\")\n",
    "print(f\"{sum(lista)/len(lista):.1f}\")\n",
    "    "
   ]
  },
  {
   "cell_type": "code",
   "execution_count": null,
   "metadata": {},
   "outputs": [],
   "source": []
  }
 ]
}