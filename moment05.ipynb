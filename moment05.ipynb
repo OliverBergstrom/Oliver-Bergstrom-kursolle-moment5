{
 "metadata": {
  "language_info": {
   "codemirror_mode": {
    "name": "ipython",
    "version": 3
   },
   "file_extension": ".py",
   "mimetype": "text/x-python",
   "name": "python",
   "nbconvert_exporter": "python",
   "pygments_lexer": "ipython3",
   "version": "3.8.3-final"
  },
  "orig_nbformat": 2,
  "kernelspec": {
   "name": "python3",
   "display_name": "Python 3",
   "language": "python"
  }
 },
 "nbformat": 4,
 "nbformat_minor": 2,
 "cells": [
  {
   "cell_type": "code",
   "execution_count": 10,
   "metadata": {},
   "outputs": [
    {
     "output_type": "stream",
     "name": "stdout",
     "text": [
      "Oliver, TE19D, NTI\n"
     ]
    }
   ],
   "source": [
    "# m05u01\n",
    "\n",
    "def jag():\n",
    "    print(\"Oliver, TE19D, NTI\")\n",
    "\n",
    "jag()"
   ]
  },
  {
   "cell_type": "code",
   "execution_count": 4,
   "metadata": {},
   "outputs": [
    {
     "output_type": "execute_result",
     "data": {
      "text/plain": [
       "12.42"
      ]
     },
     "metadata": {},
     "execution_count": 4
    }
   ],
   "source": [
    "# m05u02\n",
    "\n",
    "radie = int(input(\"ange radien\"))\n",
    "\n",
    "def area():\n",
    "    a = (3.14 * radie**2)\n",
    "    print(f\"{a}\")\n",
    "\n",
    "def omkrets():\n",
    "    o = (radie + radie * 3.14)\n",
    "    print(f\"{o}\")\n",
    "\n",
    "area()\n",
    "omkrets()"
   ]
  },
  {
   "cell_type": "code",
   "execution_count": null,
   "metadata": {},
   "outputs": [],
   "source": [
    "# m05u03\n",
    "\n",
    "radie = int(input(\"ange radien\"))\n",
    "pi = 3.14\n",
    "\n",
    "def cirkel_area(pi,readie):\n",
    "    area = (3.14 * radie**2)\n",
    "    print(f\"{a}\")\n",
    "\n",
    "def cirkel_omkrets():\n",
    "    omkrets = (radie + radie * 3.14)\n",
    "    print(f\"{o}\")\n",
    "\n",
    "\n",
    "\n"
   ]
  }
 ]
}